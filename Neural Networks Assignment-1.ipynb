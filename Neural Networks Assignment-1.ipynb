{
 "cells": [
  {
   "cell_type": "code",
   "execution_count": 1,
   "id": "4f30d2f6",
   "metadata": {},
   "outputs": [
    {
     "name": "stdout",
     "output_type": "stream",
     "text": [
      "Enter a stringManu\n",
      "final output is: aM\n"
     ]
    }
   ],
   "source": [
    "#QUESTION 1\n",
    "#input the string,delete atleast 2 characters,reverse the resultant string and print it\n",
    "str=input(\"Enter a string\")\n",
    "length=len(str)\n",
    "delete=str[:length-2]\n",
    "strRev = delete[::-1]\n",
    "print (\"final output is:\", strRev)"
   ]
  },
  {
   "cell_type": "code",
   "execution_count": 3,
   "id": "7137a2eb",
   "metadata": {},
   "outputs": [
    {
     "name": "stdout",
     "output_type": "stream",
     "text": [
      "Modified string:\n",
      "I'm ready to learn pythons\n"
     ]
    }
   ],
   "source": [
    "#QUESTION 2\n",
    "\n",
    "#accept a sentence and replace each occurance of 'python' with 'pythons'\n",
    "\n",
    "str=\"I'm ready to learn python\"\n",
    "modified_str=str.replace('python','pythons')\n",
    "print(\"Modified string:\")\n",
    "print(modified_str)"
   ]
  },
  {
   "cell_type": "code",
   "execution_count": 4,
   "id": "2459776d",
   "metadata": {},
   "outputs": [
    {
     "name": "stdout",
     "output_type": "stream",
     "text": [
      "Enter your score:89\n",
      "Your score is 89\n",
      "Your Grade is B\n"
     ]
    }
   ],
   "source": [
    "#QUESTION 3\n",
    "\n",
    "#print the letter grade based on input class score\n",
    "\n",
    "score=int(input(\"Enter your score:\"))\n",
    "print(\"Your score is\",score)\n",
    "if score >= 90 and score <= 100:\n",
    "    print(\"Your Grade is A\")\n",
    "elif score >= 80 and score <= 89:\n",
    "    print(\"Your Grade is B\")\n",
    "elif score >= 70 and score <= 79:\n",
    "    print(\"Your Grade is C\")\n",
    "elif score >= 60 and score <= 69:\n",
    "    print(\"Your Grade is D\")\n",
    "else:\n",
    "    print(\"Your Grade is F\")"
   ]
  },
  {
   "cell_type": "code",
   "execution_count": null,
   "id": "e31247de",
   "metadata": {},
   "outputs": [],
   "source": []
  }
 ],
 "metadata": {
  "kernelspec": {
   "display_name": "Python 3 (ipykernel)",
   "language": "python",
   "name": "python3"
  },
  "language_info": {
   "codemirror_mode": {
    "name": "ipython",
    "version": 3
   },
   "file_extension": ".py",
   "mimetype": "text/x-python",
   "name": "python",
   "nbconvert_exporter": "python",
   "pygments_lexer": "ipython3",
   "version": "3.11.4"
  }
 },
 "nbformat": 4,
 "nbformat_minor": 5
}
