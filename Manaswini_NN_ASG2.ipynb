{
 "cells": [
  {
   "cell_type": "code",
   "execution_count": 16,
   "id": "998a666b",
   "metadata": {},
   "outputs": [
    {
     "name": "stdout",
     "output_type": "stream",
     "text": [
      "Please enter FirstName:\n",
      "manaswini\n",
      "Please enter LastName:\n",
      "kandula\n",
      "manaswini kandula\n",
      "mnsiiknua\n"
     ]
    }
   ],
   "source": [
    "print(\"Please enter FirstName:\")\n",
    "First_name = input();\n",
    "print(\"Please enter LastName:\")\n",
    "last_name = input();\n",
    "\n",
    "\n",
    "class Name:\n",
    "\n",
    "    def Fullname(self, FirstName, LastName):\n",
    "        Full_name = FirstName + \" \" + LastName\n",
    "        return Full_name\n",
    "\n",
    "    def string_alternative(self, Full_name):\n",
    "        output = ''\n",
    "        for i in range(len(Full_name)):\n",
    "            if (i % 2 == 0):\n",
    "                output = output + Full_name[i]\n",
    "        print(output)\n",
    "\n",
    "\n",
    "def main():\n",
    "    Objname = Name()\n",
    "    print(Objname.Fullname(First_name, last_name))\n",
    "    Objname.string_alternative(Objname.Fullname(First_name, last_name))\n",
    "\n",
    "\n",
    "if __name__ == \"__main__\":\n",
    "    main()"
   ]
  },
  {
   "cell_type": "code",
   "execution_count": 2,
   "id": "1f9a0bbe",
   "metadata": {},
   "outputs": [],
   "source": [
    "from collections import Counter\n",
    "\n",
    "with open('C:\\\\Users\\\\manas\\\\.ipynb_checkpoints\\\\input.txt') as d:\n",
    "    lines = d.read()\n",
    "    list_words = (' '.join(lines.splitlines())).split()\n",
    "    ar = str(dict(Counter(list_words)))\n",
    "    with open('C:\\\\Users\\\\manas\\\\.ipynb_checkpoints\\\\output.txt', 'w') as a:\n",
    "        a.write(ar)"
   ]
  },
  {
   "cell_type": "code",
   "execution_count": 15,
   "id": "3b48b6a6",
   "metadata": {},
   "outputs": [
    {
     "name": "stdout",
     "output_type": "stream",
     "text": [
      "output for loop [363.22, 381.0, 429.26, 642.62]\n",
      "output for List Comprehension [363.22, 381.0, 429.26, 642.62]\n"
     ]
    }
   ],
   "source": [
    "def convertinginchestocm():\n",
    "    list=[143,150,169,253]\n",
    "    e=[]\n",
    "    for items in list: \n",
    "        e.append(items*2.54) \n",
    "    print(\"output for loop\",e)\n",
    "    print(\"output for List Comprehension\",[items*2.54 for items in list])\n",
    "    \n",
    "convertinginchestocm()"
   ]
  },
  {
   "cell_type": "code",
   "execution_count": null,
   "id": "d8bfcf95",
   "metadata": {},
   "outputs": [],
   "source": []
  }
 ],
 "metadata": {
  "kernelspec": {
   "display_name": "Python 3 (ipykernel)",
   "language": "python",
   "name": "python3"
  },
  "language_info": {
   "codemirror_mode": {
    "name": "ipython",
    "version": 3
   },
   "file_extension": ".py",
   "mimetype": "text/x-python",
   "name": "python",
   "nbconvert_exporter": "python",
   "pygments_lexer": "ipython3",
   "version": "3.11.4"
  }
 },
 "nbformat": 4,
 "nbformat_minor": 5
}
