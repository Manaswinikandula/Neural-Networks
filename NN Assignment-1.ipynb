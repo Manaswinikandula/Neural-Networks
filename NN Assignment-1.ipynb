{
 "cells": [
  {
   "cell_type": "code",
   "execution_count": 1,
   "id": "aafb64b0",
   "metadata": {},
   "outputs": [
    {
     "name": "stdout",
     "output_type": "stream",
     "text": [
      "Enter a stringManu\n",
      "final output is: aM\n"
     ]
    }
   ],
   "source": [
    "#QUESTION 1\n",
    "#input the string,delete atleast 2 characters,reverse the resultant string and print it\n",
    "str=input(\"Enter a string\")\n",
    "length=len(str)\n",
    "delete=str[:length-2]\n",
    "strRev = delete[::-1]\n",
    "print (\"final output is:\", strRev)"
   ]
  },
  {
   "cell_type": "code",
   "execution_count": 6,
   "id": "7fe6a23b",
   "metadata": {},
   "outputs": [
    {
     "name": "stdout",
     "output_type": "stream",
     "text": [
      "Enter 1st num3\n",
      "Enter 2nd num2\n",
      "addition 5\n",
      "substraction 1\n",
      "multiplication 6\n",
      "division 1\n"
     ]
    }
   ],
   "source": [
    "#take 2 numbers from the user and perform 4 arithmetic operations on them\n",
    "\n",
    "\n",
    "a=int(input(\"Enter 1st num\"))\n",
    "b=int(input(\"Enter 2nd num\"))\n",
    "sum=a+b\n",
    "mul=a*b\n",
    "sub=a-b\n",
    "div=a%b\n",
    "print(\"addition\",sum)\n",
    "print(\"substraction\" , sub)\n",
    "print(\"multiplication\",mul)\n",
    "print(\"division\",div)\n"
   ]
  },
  {
   "cell_type": "code",
   "execution_count": 7,
   "id": "f2c86ce5",
   "metadata": {},
   "outputs": [
    {
     "name": "stdout",
     "output_type": "stream",
     "text": [
      "Enter a stringI'm ready to learn python\n",
      "Modified string:\n",
      "I'm ready to learn pythons\n"
     ]
    }
   ],
   "source": [
    "#QUESTION 2\n",
    "\n",
    "#accept a sentence and replace each occurance of 'python' with 'pythons'\n",
    "\n",
    "str=input(\"Enter a string\")\n",
    "modified_str=str.replace('python','pythons')\n",
    "print(\"Modified string:\")\n",
    "print(modified_str)"
   ]
  },
  {
   "cell_type": "code",
   "execution_count": 4,
   "id": "80355871",
   "metadata": {},
   "outputs": [
    {
     "name": "stdout",
     "output_type": "stream",
     "text": [
      "Enter your score:89\n",
      "Your score is 89\n",
      "Your Grade is B\n"
     ]
    }
   ],
   "source": [
    "#QUESTION 3\n",
    "\n",
    "#print the letter grade based on input class score\n",
    "\n",
    "score=int(input(\"Enter your score:\"))\n",
    "print(\"Your score is\",score)\n",
    "if score >= 90 and score <= 100:\n",
    "    print(\"Your Grade is A\")\n",
    "elif score >= 80 and score <= 89:\n",
    "    print(\"Your Grade is B\")\n",
    "elif score >= 70 and score <= 79:\n",
    "    print(\"Your Grade is C\")\n",
    "elif score >= 60 and score <= 69:\n",
    "    print(\"Your Grade is D\")\n",
    "else:\n",
    "    print(\"Your Grade is F\")"
   ]
  },
  {
   "cell_type": "code",
   "execution_count": null,
   "id": "b4da92cb",
   "metadata": {},
   "outputs": [],
   "source": []
  }
 ],
 "metadata": {
  "kernelspec": {
   "display_name": "Python 3 (ipykernel)",
   "language": "python",
   "name": "python3"
  },
  "language_info": {
   "codemirror_mode": {
    "name": "ipython",
    "version": 3
   },
   "file_extension": ".py",
   "mimetype": "text/x-python",
   "name": "python",
   "nbconvert_exporter": "python",
   "pygments_lexer": "ipython3",
   "version": "3.11.4"
  }
 },
 "nbformat": 4,
 "nbformat_minor": 5
}
